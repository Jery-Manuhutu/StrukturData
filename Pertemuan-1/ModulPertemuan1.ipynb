{
 "cells": [
  {
   "cell_type": "markdown",
   "id": "187ab961",
   "metadata": {},
   "source": [
    "#PERTEMUAN 1. ARRAY\n",
    "\n",
    "##2.1\tTUJUAN PEMBELAJARAN\n",
    "1.\tMahasiswa mampu memahami dan menjelaskan konsep Array\n",
    "2.\tMahasiswa mampu mendeklarasi dan membuat array\n",
    "3.\tMahasiswa mampu mengakses array\n",
    "4.\tMahasiswa mampu melakukan pencarian data dalam array\n",
    "\n",
    "##2.2\tALAT DAN BAHAN\n",
    "1.\tKomputer\n",
    "2.\tPython 3.11.4 atau 3.11.5 terinstal (Idle)\n",
    "3.\tAnaconda\n",
    "4.\tJupiter notebook\n",
    "5.\tEditor Python (Pycharm, Visual Studio Code, Spyder)\n",
    "6.\tWeb browser untuk menjalankan jupiter notebook\n",
    "\n",
    "##2.3\tDASAR TEORI\n",
    "###2.3.1\tKONSEP ARRAY\n",
    "Array adalah struktur data yang digunakan untuk menyimpan lebih dari satu nilai dalam satu variabel tunggal. Nilai-nilai ini dikenal sebagai elemen-elemen array. Setiap elemen array memiliki indeks yang unik sehingga memungkinkan untuk dimodifikasi secara efisien. Dalam python, Array sangat mirip dengan List. Namun keduanya memiliki perbedaan baik dari penggunaan memori, kecepatan operasi, fungsionalitas, tipe data hingga kegunaannya.\n",
    "Python sendiri tidak menyediakan dukungan bawaan untuk array, sehingga untuk dapat menggunakan array kita perlu memanggil modul seperti ‘arrays’ dan ‘NumPy’. Modul \"arrays\" menyediakan berbagai metode yang memudahkan dalam memanipulasi array, seperti menambahkan, menghapus, atau mencari elemen. Sedangkan Numerical Python atau biasa disingkat NumPy merupakan library Python yang menyediakan dukungan lebih kuat dan fleksibel untuk array, termasuk array dengan dimensi lebih dari satu atau dikenal sebagai array multi-dimensi. Bahkan, NumPy memungkinkan operasi matematika pada array. \n",
    "Array dalam Python memiliki berbagai kegunaan yang penting, terutama dalam pengolahan dan analisis data. Berikut beberapa kegunaan utama dari array dalam Python:\n",
    "1.\tPengolahan data numerik\n",
    "2.\tOperasi matematika\n",
    "3.\tPengurutan data\n",
    "4.\tManipulasi data\n",
    "5.\tPenghematan memori\n",
    "\n",
    "Karena kemiripan struktur dan fungsionalitas kita dapat menggunakan LIST sebagai Array dalam python. Perbedaan utama terletak pada list yang dapat mengakomodir seluruh tipe data sedangkan array hanya mengakomodir 1 tipe data. Hal ini juga yang membuat penggunaan list akan memakan memory komputer yang lebih besar dibanding array. Sehingga kita dapat menginstal library Numpy untuk dapat menggunakan array.\n",
    "\n",
    "###2.3.2\tINSIALISASI/DEKLARASI ARRAY\n",
    "Inisiasi/deklarasi Array pada python tidak seperti pada bahasa pemrograman lain yang harus mendefenisikan tipe data dan jumlah elemen terlelbih dahulu. Array pada python lebih dinamis dan tipe data akan otomatis dideteksi oleh interpreter.\n",
    "Contoh deklarasi array kosong :\n",
    "```python\n",
    "my1DArray = [] # array kosong 1D\n",
    "my2Darray = [[]] # Array kosong 2D\n",
    "my3Darray = [[[]]] # Array kosong 3D\n",
    "```\n",
    "\n",
    "contoh Inisialisasi array dengan data awal :\n",
    "```python\n",
    "my1DArray = [1,2,3,4,5]\n",
    "my2Darray = [[1,2], [3,4]]\n",
    "my3Darray = [[[1,2], [2,3]], [[3,4], [4,5]], [[5,6], [6,7]]]\n",
    "```\n",
    "\n",
    "###2.3.3\tARRAY 1 DIMENSI\n",
    "Array 1 Dimensi merupakan array yang terdiri atas sekumpulan data dengan tipe yang sama yang tersusun dalam 1 baris. Array 1 dimensi juga disebut sebagai vector karena menggambarkan data dalam suatu urutan. Array 1 dimensi hanya mempunyai 1 indeks yang menunjuk pada nilai dari elemen tersebut.\n",
    "Contoh : `Nilai_ujian = [75, 80, 98, 45, 86, 30, 15, 100]`\n",
    "\n",
    "\n",
    "###2.3.4\tARRAY MULTIDIMENSI\n",
    "Konsep Array multidimensi sendiri adalah array yang memiliki lebih dari 1 dimensi, yang merupakan kumpulan dari array dengan dimensi dibawahnya.\n",
    "\n",
    "\n",
    "**Array 2 Dimensi**\n",
    "Array 2 Dimensi merupakan perluasan dari array 1 dimensi yang terdiri dari kumpulan array 1 dimensi. Jika array 1 dimensi hanya mempunyai 1 baris dan beberapa kolom, maka array 2 dimensi terdiri atas beberapa baris dan beberapa kolom. Contoh yang sering digunakan untuk menggambarkan array 2 dimensi adalah matriks. \n",
    "\n",
    "Contoh Array 3x5 : `myArray = [[1, 2, 3, 4, 5], [3, 4, 5, 6, 7], [5, 6, 7, 8, 9]]`\n",
    "\n",
    "**Array 3 Dimensi**\n",
    "Array 3 Dimensi merupakan bentuk kompleks dari array multidimensi. Sama seperti konsep array 2 dimensi yang merupakan kumpulan dari array 1 dimensi, maka array 3 dimensi merupakan kumpulan dari array 2 dimensi. Berikut adalah ilustrasi array 3 dimensi :\n",
    "\n",
    "###2.3.5\tAKSES ARRAY\n",
    "Untuk mengakses array dilakukan dengan menggunakan indeks. Semakin tinggi tingkatan/dimensi array, maka indeks yang digunakan akan semakin banyak. Array 1 dimensi menggunakan 1 indeks, array 2 dimensi menggunakan 2 indeks, array 3 dimensi menggunakan 3 indeks dan seterusnya. Python juga menyediakan indeks negatif untuk mengakses elemen pada array. Indeks pada array dimulai dari 0 yang posisi data berada paling depan dan -1 untuk indeks negatif dimana posisi data berada paling belakang.\n",
    "\n",
    "Contoh akses array :"
   ]
  },
  {
   "cell_type": "markdown",
   "id": "b0d6997e",
   "metadata": {},
   "source": [
    "1.\tAkses Array 1 Dimensi"
   ]
  },
  {
   "cell_type": "code",
   "execution_count": 1,
   "id": "4c122463",
   "metadata": {},
   "outputs": [
    {
     "name": "stdout",
     "output_type": "stream",
     "text": [
      "1\n",
      "3\n",
      "5\n",
      "3\n"
     ]
    }
   ],
   "source": [
    "myArray = [1, 2, 3, 4, 5]\n",
    "print(myArray[0])\n",
    "print(myArray[2])\n",
    "print(myArray[-1])\n",
    "print(myArray[-3])"
   ]
  },
  {
   "cell_type": "markdown",
   "id": "311fcada",
   "metadata": {},
   "source": [
    "2.\tAkses Array 2 Dimensi"
   ]
  },
  {
   "cell_type": "code",
   "execution_count": 2,
   "id": "9a15f2ee",
   "metadata": {},
   "outputs": [
    {
     "name": "stdout",
     "output_type": "stream",
     "text": [
      "2\n",
      "4\n"
     ]
    }
   ],
   "source": [
    "my2DArray = [[1,2],[3,4]]\n",
    "print(my2DArray[0][1])\n",
    "print(my2DArray[1][1])"
   ]
  },
  {
   "cell_type": "markdown",
   "id": "531825c1",
   "metadata": {},
   "source": [
    "3.\tAkses Array 3 Dimensi"
   ]
  },
  {
   "cell_type": "code",
   "execution_count": 3,
   "id": "4e5275c9",
   "metadata": {},
   "outputs": [
    {
     "name": "stdout",
     "output_type": "stream",
     "text": [
      "4\n",
      "6\n"
     ]
    }
   ],
   "source": [
    "my3DArray = [[[1,2], [2,3]], [[3,4],[4,5]], [[5,6], [6,7]]]\n",
    "print(my3DArray[1][1][0])\n",
    "print(my3DArray[2][0][1])"
   ]
  },
  {
   "cell_type": "markdown",
   "id": "2bf2a402",
   "metadata": {},
   "source": [
    "###2.3.6\tMENAMPILKAN ARRAY DENGAN LOOPING/PERULANGAN\n",
    "Array dapat terdiri atas ratusan hingga ribuan elemen dalam 1 array sehingga tidak mungkin kita menampilkan elemen atau data pada array dengan menggunakan indeks satu per satu. Disinilah peran dari penggunaan looping/perulangan terlihat didalam menampilkan data-data tersebut hanya dengan beberapa baris kode.\n",
    "Berikut contoh penggunaan perulangan dalam menampilkan array :"
   ]
  },
  {
   "cell_type": "markdown",
   "id": "e5478e32",
   "metadata": {},
   "source": [
    "Array 1 Dimensi :"
   ]
  },
  {
   "cell_type": "code",
   "execution_count": 4,
   "id": "d4bb6f6d",
   "metadata": {},
   "outputs": [
    {
     "name": "stdout",
     "output_type": "stream",
     "text": [
      "75\n",
      "80\n",
      "98\n",
      "45\n",
      "86\n",
      "30\n",
      "15\n",
      "100\n"
     ]
    }
   ],
   "source": [
    "# Akses array dengan perulangan for\n",
    "nilai_ujian = [75, 80, 98, 45, 86, 30, 15, 100]\n",
    "for nilai in nilai_ujian :\n",
    "    print(nilai)"
   ]
  },
  {
   "cell_type": "markdown",
   "id": "45792c13",
   "metadata": {},
   "source": [
    "Array 2 Dimensi :"
   ]
  },
  {
   "cell_type": "code",
   "execution_count": 5,
   "id": "8a061292",
   "metadata": {},
   "outputs": [
    {
     "name": "stdout",
     "output_type": "stream",
     "text": [
      "1 2 3 \n",
      "4 5 6 \n"
     ]
    }
   ],
   "source": [
    "myArray = [[1,2,3],[4,5,6]]\n",
    "\n",
    "for baris in range(len(myArray)) :\n",
    "    for kolom in range(len(myArray[baris])):\n",
    "        print(myArray[baris][kolom], end=' ')\n",
    "    print()"
   ]
  },
  {
   "cell_type": "markdown",
   "id": "eb774d97",
   "metadata": {},
   "source": [
    "Array 3 Dimensi :"
   ]
  },
  {
   "cell_type": "code",
   "execution_count": 6,
   "id": "3da7686c",
   "metadata": {},
   "outputs": [
    {
     "name": "stdout",
     "output_type": "stream",
     "text": [
      "1 2 \n",
      "3 4 \n",
      "\n",
      "2 3 \n",
      "5 6 \n",
      "\n",
      "1 3 \n",
      "4 6 \n",
      "\n"
     ]
    }
   ],
   "source": [
    "myArray = [[[1,2],[3,4]],[[2,3],[5,6]],[[1,3],[4,6]]]\n",
    "\n",
    "for x in range(len(myArray)):\n",
    "    for y in range(len(myArray[x])):\n",
    "        for z in range(len(myArray[x][y])):\n",
    "            print(myArray[x][y][z], end = ' ')\n",
    "        print()\n",
    "    print()"
   ]
  },
  {
   "cell_type": "markdown",
   "id": "0bfd87eb",
   "metadata": {},
   "source": [
    "###2.3.7\tMENAMBAH DAN MENGUBAH DATA PADA ARRAY\n",
    "Karena kita menggunakan LIST untuk merepresentasikan Array maka fungsi untuk menambah data dapat menggunakan append(). \n",
    "Contoh :"
   ]
  },
  {
   "cell_type": "code",
   "execution_count": 7,
   "id": "ddb945c8",
   "metadata": {},
   "outputs": [
    {
     "name": "stdout",
     "output_type": "stream",
     "text": [
      "[1, 2, 3, 4]\n"
     ]
    }
   ],
   "source": [
    "myArray = [1, 2, 3]\n",
    "myArray.append(4)\n",
    "print(myArray)"
   ]
  },
  {
   "cell_type": "markdown",
   "id": "0c2b9843",
   "metadata": {},
   "source": [
    "Hal yang sangat penting diperhatikan dalam mengubah data pada array yaitu penggunaan indeks. Sama seperti saat kita mengakses array, semakin tinggi dimensi suatu array maka indeks yang digunakan semakin banyak.\n",
    "Contoh :"
   ]
  },
  {
   "cell_type": "markdown",
   "id": "d4f8a488",
   "metadata": {},
   "source": [
    "Array 1 Dimensi :"
   ]
  },
  {
   "cell_type": "code",
   "execution_count": 8,
   "id": "4e2425f9",
   "metadata": {},
   "outputs": [
    {
     "name": "stdout",
     "output_type": "stream",
     "text": [
      "85\n",
      "15\n"
     ]
    }
   ],
   "source": [
    "Nilai_ujian = [75, 80, 98, 45, 86, 30, 15, 100]\n",
    "Nilai_ujian[1] = 85\n",
    "Nilai_ujian[-2] = 70\n",
    "print(Nilai_ujian[1])\n",
    "print(nilai_ujian[6])"
   ]
  },
  {
   "cell_type": "markdown",
   "id": "b9e76cad",
   "metadata": {},
   "source": [
    "Array 2 Dimensi :"
   ]
  },
  {
   "cell_type": "code",
   "execution_count": 9,
   "id": "09dbfa71",
   "metadata": {},
   "outputs": [
    {
     "name": "stdout",
     "output_type": "stream",
     "text": [
      "[[1, 2, 9], [4, 5, 6]]\n"
     ]
    }
   ],
   "source": [
    "myArray = [[1, 2, 3], [4, 5, 6]]\n",
    "myArray[0][2] = 9\n",
    "print(myArray)"
   ]
  },
  {
   "cell_type": "markdown",
   "id": "520930f1",
   "metadata": {},
   "source": [
    "###2.3.8\tSLICE ARRAY\n",
    "Penggunaan slice dapat digunakan dalam array pada python. Penggunaan slice akan memudahkan kita mengambil data dalam array tanpa harus melakukan pengulangan untuk mendapatkan data tertentu :\n",
    "Contoh :"
   ]
  },
  {
   "cell_type": "code",
   "execution_count": 10,
   "id": "0bd61b94",
   "metadata": {},
   "outputs": [
    {
     "name": "stdout",
     "output_type": "stream",
     "text": [
      "3\n",
      "6\n",
      "[2, 3, 4]\n",
      "[4, 5]\n"
     ]
    }
   ],
   "source": [
    "arr = [ 1, 2, 3, 4, 5, 6, 7]\n",
    "print(arr[2])\n",
    "print(arr[-2])\n",
    "print(arr[1:4])\n",
    "print(arr[-4:5])"
   ]
  },
  {
   "cell_type": "markdown",
   "id": "9ef2df15",
   "metadata": {},
   "source": [
    "Kita juga dapat membuat sebuah array baru dengan data yang diambil dengan menggunakan metode slice.\n",
    "Contoh :"
   ]
  },
  {
   "cell_type": "code",
   "execution_count": 11,
   "id": "1d8ea044",
   "metadata": {},
   "outputs": [
    {
     "name": "stdout",
     "output_type": "stream",
     "text": [
      "isi Array awal = []\n",
      "isi Array diisi = [2, 3, 4, 5]\n"
     ]
    }
   ],
   "source": [
    "Arr1 = [ 1, 2, 3, 4, 5, 6, 7]\n",
    "Arr2 = []\n",
    "print(f'isi Array awal = {Arr2}')\n",
    "Arr2 = Arr1[1:5]\n",
    "print(f'isi Array diisi = {Arr2}')"
   ]
  },
  {
   "cell_type": "markdown",
   "id": "5c77337f",
   "metadata": {},
   "source": [
    "##2.4\tLANGKAH KERJA\n",
    "Kegiatan praktikum kita hari ini akan membuat beberapa latihan tentang deklarasi dan akses array. Ikuti langkah-langkah dalam modul dengan teliti. Simpan semua file python dan sertakan (diketik bukan difoto) kode-kode dalam penjelasan pengamatan anda. Untuk hasil keluaran silahkan di screenshoot dan bahas di laporan anda!!!\n",
    "###1.4.1\tDeklarasi & Akses Array 1 Dimensi dan Array 2 Dimensi\n",
    "1.\tBuka Visual Studio Code\n",
    "2.\tBuat file python baru dan simpan dengan nama : Percobaan1_NIMAnda. (Contoh : Percobaan1_123456789.py)\n",
    "3.\tTuliskan kode berikut :\n"
   ]
  },
  {
   "cell_type": "code",
   "execution_count": 12,
   "id": "4dc3408d",
   "metadata": {},
   "outputs": [
    {
     "name": "stdout",
     "output_type": "stream",
     "text": [
      "Menampilkan Isi Array 1 Dimensi : \n",
      "Array dengan indeks 2 = 3\n",
      "Array dengan indeks -4 = 2\n",
      "\n",
      "Menampilkan isi Array 2 Dimensi (2x2) : \n",
      "Baris ke-1 kolom ke-2 : 3\n",
      "Baris ke-2 kolom ke-1 : 5\n"
     ]
    }
   ],
   "source": [
    "# Deklarasi Array 1 Dimensi\n",
    "myArray = [1,2,3,4,5]\n",
    "# Deklarasi Array 2 Dimensi\n",
    "my2DArray = [[2,3], [5,6]]\n",
    "print('Menampilkan Isi Array 1 Dimensi : ')\n",
    "print(f'Array dengan indeks 2 = {myArray[2]}')\n",
    "print(f'Array dengan indeks -4 = {myArray[-4]}')\n",
    "print()\n",
    "print('Menampilkan isi Array 2 Dimensi (2x2) : ')\n",
    "print(f'Baris ke-1 kolom ke-2 : {my2DArray[0][1]}')\n",
    "print(f'Baris ke-2 kolom ke-1 : {my2DArray[1][0]}')"
   ]
  },
  {
   "cell_type": "markdown",
   "id": "8e83bfb3",
   "metadata": {},
   "source": [
    "4.\tJalankan/Run kode diatas. Jika berhasil maka output dari kode diatas adalah sebagai berikut :\n",
    "```\n",
    "Menampilkan Isi Array 1 Dimensi :\n",
    "Array dengan indeks 2 = 3\n",
    "Array dengan indeks -4 = 2\n",
    "\n",
    "Menampilkan isi Array 2 Dimensi (2x2) :\n",
    "Baris ke-1 kolom ke-2 : 3\n",
    "Baris ke-2 kolom ke-1 : 5\n",
    "```\n",
    "5.\tScreenshoot hasil output dan bahas di laporan anda.\n",
    "6.\tJawab dan jelaskan pertanyaan berikut pada laporan anda :\n",
    "- Berapa indeks terkecil dan terbesar pada array myArray ?\n",
    "- Apa hasil dari `myArray[-6]` ? jelaskan apa yang terjadi?\n",
    "- Apa hasil dari `my2DArray[2][1]` ? Jelaskan apa yang terjadi?"
   ]
  },
  {
   "cell_type": "markdown",
   "id": "47446193",
   "metadata": {},
   "source": [
    "###1.4.2\tArray dan Looping\n",
    "1.\tBuka Visual Studio Code\n",
    "2.\tBuat file python baru dan simpan dengan nama : Percobaan2_NIMAnda. (Contoh : Percobaan2_123456789.py)\n",
    "3.\tTuliskan kode berikut :"
   ]
  },
  {
   "cell_type": "code",
   "execution_count": 13,
   "id": "ab8c08a2",
   "metadata": {},
   "outputs": [
    {
     "name": "stdout",
     "output_type": "stream",
     "text": [
      "Isi Array Awal = [10, 2, 43, 24, 58, 32, 63, 29, 98, 71]\n",
      "Isi Array setelah dibalik = [71, 98, 29, 63, 32, 58, 24, 43, 2, 10]\n"
     ]
    }
   ],
   "source": [
    "Arr1 = [10,2,43,24,58,32,63,29,98,71]\n",
    "Arr2 = []\n",
    "\n",
    "print(f'Isi Array Awal = {Arr1}')\n",
    "i = len(Arr1) - 1\n",
    "\n",
    "while i >= 0 :\n",
    "    Arr2.append(Arr1[i])\n",
    "    i-=1\n",
    "\n",
    "print(f'Isi Array setelah dibalik = {Arr2}')"
   ]
  },
  {
   "cell_type": "markdown",
   "id": "d9127c0a",
   "metadata": {},
   "source": [
    "4.\tJalankan/Run kode diatas. Jika berhasil maka output dari kode diatas adalah sebagai berikut :\n",
    "```\n",
    "Isi Array Awal = [10, 2, 43, 24, 58, 32, 63, 29, 98, 71]\n",
    "Isi Array setelah dibalik = [71, 98, 29, 63, 32, 58, 24, 43, 2, 10]\n",
    "```\n",
    "5.\tScreenshoot hasil output dan bahas di laporan anda.\n",
    "6.\tJawab dan jelaskan pertanyaan berikut pada laporan anda :\n",
    "\n",
    "-\tPada kode diatas apa yang terjadi jika baris ke-5 kode diganti menjadi kode dibawah ini:\n",
    "    ```\n",
    "    i = len(Arr1)\n",
    "    ```\n",
    "    jelaskan apa yang terjadi!\n",
    "-\tApa fungsi `i-=1` ?\n"
   ]
  },
  {
   "cell_type": "markdown",
   "id": "3bc85449",
   "metadata": {},
   "source": [
    "###1.4.3\tPencarian pada Array\n",
    "1.\tBuka Visual Studio Code\n",
    "2.\tBuat file python baru dan simpan dengan nama : Percobaan3_NIMAnda. (Contoh : Percobaan3_123456789.py)\n",
    "3.\tTuliskan kode berikut :"
   ]
  },
  {
   "cell_type": "code",
   "execution_count": 1,
   "id": "20aabcef",
   "metadata": {},
   "outputs": [
    {
     "name": "stdout",
     "output_type": "stream",
     "text": [
      "Isi Array adalah = [10, 2, 43, 24, 58, 32, 63, 29, 98, 71]\n",
      "Angka ditemukan di indeks ke-1\n",
      "Jumlah data yang ditemukan = 1\n"
     ]
    }
   ],
   "source": [
    "Arr1 = [10,2,43,24,58,32,63,29,98,71]\n",
    "ketemu = False\n",
    "jum = 0\n",
    "print(f'Isi Array adalah = {Arr1}')\n",
    "cari = int(input('Masukan angka yang ingin dicari : '))\n",
    "for indeks in range(len(Arr1)) :\n",
    "    if cari==Arr1[indeks]:\n",
    "        ketemu = True\n",
    "        print(f'Angka ditemukan di indeks ke-{indeks}')\n",
    "        jum+=1\n",
    "    \n",
    "if ketemu:\n",
    "    print(f'Jumlah data yang ditemukan = {jum}')\n",
    "else:\n",
    "    print('Angka yang dicari tidak ditemukan!')"
   ]
  },
  {
   "cell_type": "markdown",
   "id": "c4e55cf6",
   "metadata": {},
   "source": [
    "4.\tJalankan/Run kode diatas. Jika berhasil maka output dari kode diatas adalah sebagai berikut :\n",
    "```\n",
    "Isi Array adalah = [10, 2, 43, 24, 58, 32, 63, 29, 98, 71, 2]\n",
    "Masukan angka yang ingin dicari : 2\n",
    "Angka ditemukan di indeks ke-1\n",
    "Angka ditemukan di indeks ke-10\n",
    "Jumlah data yang ditemukan = 2\n",
    "```\n",
    "5.\tScreenshoot hasil output dan bahas di laporan anda.\n",
    "6.\tJawab dan jelaskan pertanyaan berikut pada laporan anda :\n",
    "-\tApa fungsi dari `ketemu = Tru`e pada kode diatas ?\n",
    "-\tApa yang terjadi jika statement `ketemu = True` diubah menjadi `ketemu = False` ?\n",
    "-\tPada kode diatas perulangan dilakukan terhadap range dari jumlah elemen dalam array. Kenapa perulangan pencarian tidak dilakukan langsung terhadap array nya (`for indeks in Arr1`) ? Jelaskan!\n"
   ]
  },
  {
   "cell_type": "markdown",
   "id": "72b31261",
   "metadata": {},
   "source": [
    "###1.4.4\tImplementasi Array pada Matriks 2x2 \n",
    "1.\tBuka Visual Studio Code\n",
    "2.\tBuat file python baru dan simpan dengan nama : Percobaan4_NIMAnda. (Contoh : Percobaan4_123456789.py)\n",
    "3.\tTuliskan kode berikut :"
   ]
  },
  {
   "cell_type": "code",
   "execution_count": 2,
   "id": "efb25f9b",
   "metadata": {},
   "outputs": [
    {
     "name": "stdout",
     "output_type": "stream",
     "text": [
      "Matriks 1 : \n",
      "5 0 \n",
      "5 6 \n",
      "Matriks 2 : \n",
      "1 0 \n",
      "4 2 \n",
      "\n",
      "Hasil Penambahan Matriks = \n",
      "6 0 \n",
      "9 8 \n",
      "Hasil Pengurangan Matriks = \n",
      "4 0 \n",
      "1 4 \n",
      "Hasil Perkalian Matriks = \n",
      "5 0 \n",
      "29 12 \n"
     ]
    }
   ],
   "source": [
    "mat1 = [\n",
    "    [5, 0],\n",
    "    [5, 6],\n",
    "]\n",
    "mat2 = [\n",
    "    [1, 0],\n",
    "    [4, 2],\n",
    "]\n",
    "\n",
    "def tampilMatriks(matriks):\n",
    "    for x in range(len(matriks)):\n",
    "        for y in range(len(matriks[x])):\n",
    "            print(matriks[x][y], end=' ')\n",
    "        print()\n",
    "\n",
    "def tambahMatriks(matriks1, matriks2):\n",
    "    for x in range(len(matriks1)):\n",
    "        for y in range(len(matriks1[0])):\n",
    "            print (matriks1[x][y] + matriks2[x][y], end=' '),\n",
    "        print()\n",
    "\n",
    "def kurangMatriks(matriks1, matriks2):\n",
    "    for x in range(len(matriks1)):\n",
    "        for y in range(len(matriks1[0])):\n",
    "            print (matriks1[x][y] - matriks2[x][y], end=' '),\n",
    "        print()\n",
    "\n",
    "def kaliMatriks(matriks1, matriks2):\n",
    "    matriks3 = []\n",
    "    for x in range(len(matriks1)):\n",
    "        row = []\n",
    "        for y in range(len(matriks1[0])):\n",
    "            total = 0\n",
    "            for z in range(len(matriks1)):\n",
    "                total = total + (matriks1[x][z] * matriks2[z][y])\n",
    "            row.append(total)\n",
    "        matriks3.append(row)\n",
    "\n",
    "    for x in range(len(matriks3)):\n",
    "        for y in range(len(matriks3[0])):\n",
    "            print (matriks3[x][y], end=' ')\n",
    "        print()\n",
    "\n",
    "print('Matriks 1 : ')\n",
    "tampilMatriks(mat1)\n",
    "print('Matriks 2 : ')\n",
    "tampilMatriks(mat2)\n",
    "print()\n",
    "print('Hasil Penambahan Matriks = ')\n",
    "tambahMatriks(mat1, mat2)\n",
    "print('Hasil Pengurangan Matriks = ')\n",
    "kurangMatriks(mat1, mat2)\n",
    "print('Hasil Perkalian Matriks = ')\n",
    "kaliMatriks(mat1, mat2)"
   ]
  },
  {
   "cell_type": "markdown",
   "id": "0baa8e4b",
   "metadata": {},
   "source": [
    "4.\tJalankan/Run kode diatas. Jika berhasil maka output dari kode diatas adalah sebagai berikut :\n",
    "```\n",
    "Matriks 1 :\n",
    "5 0\n",
    "5 6\n",
    "Matriks 2 :\n",
    "1 0\n",
    "4 2\n",
    "\n",
    "Hasil Penambahan Matriks =\n",
    "6 0\n",
    "9 8\n",
    "Hasil Pengurangan Matriks =\n",
    "4 0\n",
    "1 4\n",
    "Hasil Perkalian Matriks =\n",
    "5 0\n",
    "29 12\n",
    "```\n",
    "5.\tScreenshoot hasil output dan bahas di laporan anda.\n",
    "6.\tJawab dan jelaskan pertanyaan berikut pada laporan anda :\n",
    "-\tApa fungsi `matriks3` pada kode diatas? jelaskan\n",
    "-\tApa fungsi `row` pada kode diatas? jelaskan"
   ]
  },
  {
   "cell_type": "markdown",
   "id": "5a65b3c4",
   "metadata": {},
   "source": [
    "##2.5\tPERCOBAAN TUGAS MAHASISWA\n",
    "Anda telah melakukan percobaan operasi matriks 2x2 pada praktikum. Lakukan operasi yang sama (tambah, kurang dan kali) pada matriks dengan ordo 3x3. Buatlah menu untuk memilih operasi matriks dan menampilkan matriks :\n",
    "```\n",
    "---- Operasi Matriks 3x3 -----\n",
    "1.\tTampil Matriks\n",
    "2.\tTambah Matriks\n",
    "3.\tPengurangan Matriks\n",
    "4.\tPerkalian Matriks\n",
    "5.\tKeluar\n",
    "```\n",
    "Buatlah sebuah file yang berisikan fungsi-fungsi operasi tampil, tambah, kurang dan kali. Import dan panggil file ini pada file utama program anda.\n",
    "Jadi, akan ada 2 file python yang akan kalian kumpulkan (file fungsi dan file utama program).\n"
   ]
  }
 ],
 "metadata": {
  "kernelspec": {
   "display_name": ".venv",
   "language": "python",
   "name": "python3"
  },
  "language_info": {
   "codemirror_mode": {
    "name": "ipython",
    "version": 3
   },
   "file_extension": ".py",
   "mimetype": "text/x-python",
   "name": "python",
   "nbconvert_exporter": "python",
   "pygments_lexer": "ipython3",
   "version": "3.13.2"
  }
 },
 "nbformat": 4,
 "nbformat_minor": 5
}
